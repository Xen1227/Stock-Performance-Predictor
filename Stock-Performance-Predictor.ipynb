{
 "cells": [
  {
   "cell_type": "code",
   "execution_count": 1,
   "metadata": {
    "collapsed": true
   },
   "outputs": [],
   "source": [
    "import numpy as np\n",
    "import pandas as pd\n",
    "\n",
    "import matplotlib.pyplot as plt\n",
    "%matplotlib inline"
   ]
  },
  {
   "cell_type": "code",
   "execution_count": 7,
   "metadata": {
    "collapsed": true
   },
   "outputs": [],
   "source": [
    "prices = pd.read_csv('NASDAQ Historical Data Price Only.csv',index_col='Date')"
   ]
  },
  {
   "cell_type": "code",
   "execution_count": 8,
   "metadata": {},
   "outputs": [
    {
     "data": {
      "text/html": [
       "<div>\n",
       "<style>\n",
       "    .dataframe thead tr:only-child th {\n",
       "        text-align: right;\n",
       "    }\n",
       "\n",
       "    .dataframe thead th {\n",
       "        text-align: left;\n",
       "    }\n",
       "\n",
       "    .dataframe tbody tr th {\n",
       "        vertical-align: top;\n",
       "    }\n",
       "</style>\n",
       "<table border=\"1\" class=\"dataframe\">\n",
       "  <thead>\n",
       "    <tr style=\"text-align: right;\">\n",
       "      <th></th>\n",
       "      <th>Price</th>\n",
       "    </tr>\n",
       "    <tr>\n",
       "      <th>Date</th>\n",
       "      <th></th>\n",
       "    </tr>\n",
       "  </thead>\n",
       "  <tbody>\n",
       "    <tr>\n",
       "      <th>2018-01-26</th>\n",
       "      <td>7505.77</td>\n",
       "    </tr>\n",
       "    <tr>\n",
       "      <th>2018-01-25</th>\n",
       "      <td>7411.16</td>\n",
       "    </tr>\n",
       "    <tr>\n",
       "      <th>2018-01-24</th>\n",
       "      <td>7415.06</td>\n",
       "    </tr>\n",
       "    <tr>\n",
       "      <th>2018-01-23</th>\n",
       "      <td>7460.29</td>\n",
       "    </tr>\n",
       "    <tr>\n",
       "      <th>2018-01-22</th>\n",
       "      <td>7408.03</td>\n",
       "    </tr>\n",
       "  </tbody>\n",
       "</table>\n",
       "</div>"
      ],
      "text/plain": [
       "              Price\n",
       "Date               \n",
       "2018-01-26  7505.77\n",
       "2018-01-25  7411.16\n",
       "2018-01-24  7415.06\n",
       "2018-01-23  7460.29\n",
       "2018-01-22  7408.03"
      ]
     },
     "execution_count": 8,
     "metadata": {},
     "output_type": "execute_result"
    }
   ],
   "source": [
    "prices.index = pd.to_datetime(prices.index)\n",
    "prices.head()"
   ]
  },
  {
   "cell_type": "markdown",
   "metadata": {},
   "source": [
    "** Plotting out the NASDAQ price data **"
   ]
  },
  {
   "cell_type": "code",
   "execution_count": 9,
   "metadata": {},
   "outputs": [
    {
     "data": {
      "text/plain": [
       "<matplotlib.axes._subplots.AxesSubplot at 0x26790d28710>"
      ]
     },
     "execution_count": 9,
     "metadata": {},
     "output_type": "execute_result"
    },
    {
     "data": {
      "image/png": "[encoded data removed]",
      "text/plain": [
       "<matplotlib.figure.Figure at 0x26790c5cc18>"
      ]
     },
     "metadata": {},
     "output_type": "display_data"
    }
   ],
   "source": [
    "prices.plot()"
   ]
  },
  {
   "cell_type": "markdown",
   "metadata": {},
   "source": [
    "___"
   ]
  },
  {
   "cell_type": "markdown",
   "metadata": {},
   "source": [
    "### Train Test Split\n"
   ]
  },
  {
   "cell_type": "code",
   "execution_count": 10,
   "metadata": {},
   "outputs": [
    {
     "name": "stdout",
     "output_type": "stream",
     "text": [
      "<class 'pandas.core.frame.DataFrame'>\n",
      "DatetimeIndex: 2031 entries, 2018-01-26 to 2010-01-04\n",
      "Data columns (total 1 columns):\n",
      "Price    2031 non-null float64\n",
      "dtypes: float64(1)\n",
      "memory usage: 31.7 KB\n"
     ]
    }
   ],
   "source": [
    "prices.info()"
   ]
  },
  {
   "cell_type": "code",
   "execution_count": 11,
   "metadata": {
    "collapsed": true
   },
   "outputs": [],
   "source": [
    "train_set = prices.tail(2000)"
   ]
  },
  {
   "cell_type": "code",
   "execution_count": 12,
   "metadata": {
    "collapsed": true
   },
   "outputs": [],
   "source": [
    "test_set = prices.head(31)"
   ]
  },
  {
   "cell_type": "markdown",
   "metadata": {},
   "source": [
    "### Scale the Data\n"
   ]
  },
  {
   "cell_type": "code",
   "execution_count": 13,
   "metadata": {
    "collapsed": true
   },
   "outputs": [],
   "source": [
    "from sklearn.preprocessing import MinMaxScaler"
   ]
  },
  {
   "cell_type": "code",
   "execution_count": 14,
   "metadata": {
    "collapsed": true
   },
   "outputs": [],
   "source": [
    "scaler = MinMaxScaler()"
   ]
  },
  {
   "cell_type": "code",
   "execution_count": 15,
   "metadata": {
    "collapsed": true
   },
   "outputs": [],
   "source": [
    "train_scaled = scaler.fit_transform(train_set)"
   ]
  },
  {
   "cell_type": "code",
   "execution_count": 16,
   "metadata": {
    "collapsed": true
   },
   "outputs": [],
   "source": [
    "test_scaled = scaler.transform(test_set)"
   ]
  },
  {
   "cell_type": "markdown",
   "metadata": {},
   "source": [
    "## Batch Function\n"
   ]
  },
  {
   "cell_type": "code",
   "execution_count": 17,
   "metadata": {
    "collapsed": true
   },
   "outputs": [],
   "source": [
    "def next_batch(training_data,batch_size,steps):\n",
    "    \"\"\"\n",
    "    INPUT: Data, Batch Size, Time Steps per batch\n",
    "    OUTPUT: A tuple of y time series results. y[:,:-1] and y[:,1:]\n",
    "    \"\"\""
   ]
  },
  {
   "cell_type": "code",
   "execution_count": 18,
   "metadata": {
    "collapsed": true
   },
   "outputs": [],
   "source": [
    "def next_batch(training_data,batch_size,steps):\n",
    "    \n",
    "    \n",
    "    # Grab a random starting point for each batch\n",
    "    rand_start = np.random.randint(0,len(training_data)-steps) \n",
    "\n",
    "    # Create Y data for time series in the batches\n",
    "    y_batch = np.array(training_data[rand_start:rand_start+steps+1]).reshape(1,steps+1)\n",
    "\n",
    "    return y_batch[:, :-1].reshape(-1, steps, 1), y_batch[:, 1:].reshape(-1, steps, 1) "
   ]
  },
  {
   "cell_type": "markdown",
   "metadata": {},
   "source": [
    "## Setting Up The RNN Model"
   ]
  },
  {
   "cell_type": "code",
   "execution_count": 19,
   "metadata": {
    "collapsed": true
   },
   "outputs": [],
   "source": [
    "import tensorflow as tf\n",
    "tf.reset_default_graph()"
   ]
  },
  {
   "cell_type": "markdown",
   "metadata": {},
   "source": [
    "### The Constants\n"
   ]
  },
  {
   "cell_type": "code",
   "execution_count": 20,
   "metadata": {
    "collapsed": true
   },
   "outputs": [],
   "source": [
    "# Just one feature, the time series\n",
    "num_inputs = 1\n",
    "# Num of steps in each batch\n",
    "num_time_steps = 31\n",
    "# 100 neuron layer\n",
    "num_neurons = 100\n",
    "# Just one output, predicted time series\n",
    "num_outputs = 1\n",
    "\n",
    "# learning rate \n",
    "learning_rate = 0.01 \n",
    "# how many iterations to go through (training steps)\n",
    "num_train_iterations = 4000\n",
    "# Size of the batch of data\n",
    "batch_size = 1"
   ]
  },
  {
   "cell_type": "code",
   "execution_count": 21,
   "metadata": {
    "collapsed": true
   },
   "outputs": [],
   "source": [
    "X = tf.placeholder(tf.float32, [None, num_time_steps, num_inputs])\n",
    "y = tf.placeholder(tf.float32, [None, num_time_steps, num_outputs])"
   ]
  },
  {
   "cell_type": "code",
   "execution_count": 22,
   "metadata": {
    "collapsed": true
   },
   "outputs": [],
   "source": [
    "cell = tf.contrib.rnn.OutputProjectionWrapper(\n",
    "    tf.contrib.rnn.BasicLSTMCell(num_units=num_neurons, activation=tf.nn.relu),\n",
    "    output_size=num_outputs, reuse=tf.get_variable_scope().reuse) "
   ]
  },
  {
   "cell_type": "code",
   "execution_count": 23,
   "metadata": {
    "collapsed": true
   },
   "outputs": [],
   "source": [
    "outputs, states = tf.nn.dynamic_rnn(cell, X, dtype=tf.float32)"
   ]
  },
  {
   "cell_type": "markdown",
   "metadata": {},
   "source": [
    "### Loss Function and Optimizer\n"
   ]
  },
  {
   "cell_type": "code",
   "execution_count": 78,
   "metadata": {
    "collapsed": true
   },
   "outputs": [],
   "source": [
    "loss = tf.reduce_mean(tf.square(outputs - y)) # MSE\n",
    "optimizer = tf.train.AdamOptimizer(learning_rate=learning_rate, beta1=0.9)\n",
    "train = optimizer.minimize(loss)"
   ]
  },
  {
   "cell_type": "markdown",
   "metadata": {},
   "source": [
    "** Initialize the global variables **"
   ]
  },
  {
   "cell_type": "code",
   "execution_count": 79,
   "metadata": {
    "collapsed": true
   },
   "outputs": [],
   "source": [
    "init = tf.global_variables_initializer()"
   ]
  },
  {
   "cell_type": "markdown",
   "metadata": {},
   "source": [
    "** Create an instance of tf.train.Saver() **"
   ]
  },
  {
   "cell_type": "code",
   "execution_count": 80,
   "metadata": {
    "collapsed": true
   },
   "outputs": [],
   "source": [
    "saver = tf.train.Saver()"
   ]
  },
  {
   "cell_type": "markdown",
   "metadata": {},
   "source": [
    "### Session\n"
   ]
  },
  {
   "cell_type": "code",
   "execution_count": 81,
   "metadata": {
    "collapsed": true
   },
   "outputs": [],
   "source": [
    "gpu_options = tf.GPUOptions(per_process_gpu_memory_fraction=0.9)"
   ]
  },
  {
   "cell_type": "code",
   "execution_count": 82,
   "metadata": {},
   "outputs": [
    {
     "name": "stdout",
     "output_type": "stream",
     "text": [
      "0 \tMSE: 0.0344583\n",
      "100 \tMSE: 0.0031086\n",
      "200 \tMSE: 0.00484149\n",
      "300 \tMSE: 0.00107546\n",
      "400 \tMSE: 0.00068948\n",
      "500 \tMSE: 0.000235299\n",
      "600 \tMSE: 0.000176826\n",
      "700 \tMSE: 0.00116414\n",
      "800 \tMSE: 9.49568e-05\n",
      "900 \tMSE: 0.00014012\n",
      "1000 \tMSE: 5.35445e-05\n",
      "1100 \tMSE: 5.51938e-05\n",
      "1200 \tMSE: 2.22684e-05\n",
      "1300 \tMSE: 7.1323e-05\n",
      "1400 \tMSE: 5.55103e-05\n",
      "1500 \tMSE: 3.00245e-05\n",
      "1600 \tMSE: 0.000178084\n",
      "1700 \tMSE: 5.35534e-05\n",
      "1800 \tMSE: 0.00011179\n",
      "1900 \tMSE: 5.06227e-05\n",
      "2000 \tMSE: 9.36297e-05\n",
      "2100 \tMSE: 0.00010627\n",
      "2200 \tMSE: 0.000173456\n",
      "2300 \tMSE: 6.49146e-05\n",
      "2400 \tMSE: 0.000197331\n",
      "2500 \tMSE: 5.00435e-05\n",
      "2600 \tMSE: 5.11937e-05\n",
      "2700 \tMSE: 3.42705e-05\n",
      "2800 \tMSE: 4.96423e-05\n",
      "2900 \tMSE: 0.000358287\n",
      "3000 \tMSE: 0.000157107\n",
      "3100 \tMSE: 3.06273e-05\n",
      "3200 \tMSE: 0.000109319\n",
      "3300 \tMSE: 4.46129e-05\n",
      "3400 \tMSE: 0.000548639\n",
      "3500 \tMSE: 4.35069e-05\n",
      "3600 \tMSE: 5.60752e-05\n",
      "3700 \tMSE: 0.000120626\n",
      "3800 \tMSE: 0.000305925\n",
      "3900 \tMSE: 4.95233e-05\n"
     ]
    }
   ],
   "source": [
    "with tf.Session(config=tf.ConfigProto(gpu_options=gpu_options)) as sess:\n",
    "    sess.run(init)\n",
    "    \n",
    "    for iteration in range(num_train_iterations):\n",
    "        \n",
    "        X_batch, y_batch = next_batch(train_scaled,batch_size,num_time_steps)\n",
    "        sess.run(train, feed_dict={X: X_batch, y: y_batch})\n",
    "        \n",
    "        if iteration % 100 == 0:\n",
    "            \n",
    "            mse = loss.eval(feed_dict={X: X_batch, y: y_batch})\n",
    "            print(iteration, \"\\tMSE:\", mse)\n",
    "    \n",
    "    # Save Model for Later\n",
    "    saver.save(sess, \"./stock_prediction_model\")"
   ]
  },
  {
   "cell_type": "markdown",
   "metadata": {},
   "source": [
    "______"
   ]
  },
  {
   "cell_type": "markdown",
   "metadata": {},
   "source": [
    "# Generative Session\n"
   ]
  },
  {
   "cell_type": "code",
   "execution_count": 83,
   "metadata": {},
   "outputs": [
    {
     "name": "stdout",
     "output_type": "stream",
     "text": [
      "INFO:tensorflow:Restoring parameters from ./stock_prediction_model\n"
     ]
    }
   ],
   "source": [
    "with tf.Session() as sess:\n",
    "    \n",
    "    # Restoring from saver\n",
    "    saver.restore(sess, \"./stock_prediction_model\")\n",
    "\n",
    "    train_seed = list(train_scaled[-31:])\n",
    "     \n",
    "    for iteration in range(31):\n",
    "        X_batch = np.array(train_seed[-num_time_steps:]).reshape(1, num_time_steps, 1)\n",
    "        y_pred = sess.run(outputs, feed_dict={X: X_batch})\n",
    "        train_seed.append(y_pred[0, -1, 0])"
   ]
  },
  {
   "cell_type": "code",
   "execution_count": 84,
   "metadata": {},
   "outputs": [
    {
     "data": {
      "text/plain": [
       "[array([ 0.02790126]),\n",
       " array([ 0.02539119]),\n",
       " array([ 0.01903094]),\n",
       " array([ 0.01776139]),\n",
       " array([ 0.01163348]),\n",
       " array([ 0.01225581]),\n",
       " array([ 0.00710704]),\n",
       " array([ 0.01023323]),\n",
       " array([ 0.00697843]),\n",
       " array([ 0.02056188]),\n",
       " array([ 0.02038556]),\n",
       " array([ 0.01647316]),\n",
       " array([ 0.01152561]),\n",
       " array([ 0.01809122]),\n",
       " array([ 0.02688894]),\n",
       " array([ 0.02322132]),\n",
       " array([ 0.02468795]),\n",
       " array([ 0.02354493]),\n",
       " array([ 0.03607665]),\n",
       " array([ 0.04137685]),\n",
       " array([ 0.04742385]),\n",
       " array([ 0.04070058]),\n",
       " array([ 0.04666461]),\n",
       " array([ 0.0448308]),\n",
       " array([ 0.0395223]),\n",
       " array([ 0.04576637]),\n",
       " array([ 0.04675381]),\n",
       " array([ 0.04320236]),\n",
       " array([ 0.0434181]),\n",
       " array([ 0.04499883]),\n",
       " array([ 0.04493867]),\n",
       " 0.043419123,\n",
       " 0.042233676,\n",
       " 0.041037992,\n",
       " 0.039757773,\n",
       " 0.038534284,\n",
       " 0.037412807,\n",
       " 0.036378115,\n",
       " 0.035412595,\n",
       " 0.034503043,\n",
       " 0.033640921,\n",
       " 0.032819688,\n",
       " 0.032035038,\n",
       " 0.03128396,\n",
       " 0.030564412,\n",
       " 0.029874519,\n",
       " 0.029212296,\n",
       " 0.028577462,\n",
       " 0.027973339,\n",
       " 0.027401984,\n",
       " 0.026861012,\n",
       " 0.026348338,\n",
       " 0.025861695,\n",
       " 0.025399908,\n",
       " 0.024961203,\n",
       " 0.024544135,\n",
       " 0.024147958,\n",
       " 0.023771301,\n",
       " 0.023413017,\n",
       " 0.023072332,\n",
       " 0.022748396,\n",
       " 0.022440284]"
      ]
     },
     "execution_count": 84,
     "metadata": {},
     "output_type": "execute_result"
    }
   ],
   "source": [
    "train_seed"
   ]
  },
  {
   "cell_type": "code",
   "execution_count": 85,
   "metadata": {
    "collapsed": true
   },
   "outputs": [],
   "source": [
    "results = scaler.inverse_transform(np.array(train_seed[31:]).reshape(31,1))"
   ]
  },
  {
   "cell_type": "markdown",
   "metadata": {},
   "source": [
    "** Create a new column on the test_set called \"Generated\" and set it equal to the generated results."
   ]
  },
  {
   "cell_type": "code",
   "execution_count": 86,
   "metadata": {},
   "outputs": [
    {
     "name": "stderr",
     "output_type": "stream",
     "text": [
      "C:\\Users\\Xavier\\Anaconda3\\envs\\tfdeeplearning\\lib\\site-packages\\ipykernel_launcher.py:1: SettingWithCopyWarning: \n",
      "A value is trying to be set on a copy of a slice from a DataFrame.\n",
      "Try using .loc[row_indexer,col_indexer] = value instead\n",
      "\n",
      "See the caveats in the documentation: http://pandas.pydata.org/pandas-docs/stable/indexing.html#indexing-view-versus-copy\n",
      "  \"\"\"Entry point for launching an IPython kernel.\n"
     ]
    }
   ],
   "source": [
    "test_set['Generated'] = results"
   ]
  },
  {
   "cell_type": "code",
   "execution_count": 87,
   "metadata": {},
   "outputs": [
    {
     "data": {
      "text/html": [
       "<div>\n",
       "<style>\n",
       "    .dataframe thead tr:only-child th {\n",
       "        text-align: right;\n",
       "    }\n",
       "\n",
       "    .dataframe thead th {\n",
       "        text-align: left;\n",
       "    }\n",
       "\n",
       "    .dataframe tbody tr th {\n",
       "        vertical-align: top;\n",
       "    }\n",
       "</style>\n",
       "<table border=\"1\" class=\"dataframe\">\n",
       "  <thead>\n",
       "    <tr style=\"text-align: right;\">\n",
       "      <th></th>\n",
       "      <th>Price</th>\n",
       "      <th>Generated</th>\n",
       "    </tr>\n",
       "    <tr>\n",
       "      <th>Date</th>\n",
       "      <th></th>\n",
       "      <th></th>\n",
       "    </tr>\n",
       "  </thead>\n",
       "  <tbody>\n",
       "    <tr>\n",
       "      <th>2018-01-26</th>\n",
       "      <td>7505.77</td>\n",
       "      <td>2301.094971</td>\n",
       "    </tr>\n",
       "    <tr>\n",
       "      <th>2018-01-25</th>\n",
       "      <td>7411.16</td>\n",
       "      <td>2295.380371</td>\n",
       "    </tr>\n",
       "    <tr>\n",
       "      <th>2018-01-24</th>\n",
       "      <td>7415.06</td>\n",
       "      <td>2289.616455</td>\n",
       "    </tr>\n",
       "    <tr>\n",
       "      <th>2018-01-23</th>\n",
       "      <td>7460.29</td>\n",
       "      <td>2283.445068</td>\n",
       "    </tr>\n",
       "    <tr>\n",
       "      <th>2018-01-22</th>\n",
       "      <td>7408.03</td>\n",
       "      <td>2277.547119</td>\n",
       "    </tr>\n",
       "    <tr>\n",
       "      <th>2018-01-19</th>\n",
       "      <td>7336.38</td>\n",
       "      <td>2272.141113</td>\n",
       "    </tr>\n",
       "    <tr>\n",
       "      <th>2018-01-18</th>\n",
       "      <td>7296.05</td>\n",
       "      <td>2267.153320</td>\n",
       "    </tr>\n",
       "    <tr>\n",
       "      <th>2018-01-17</th>\n",
       "      <td>7298.28</td>\n",
       "      <td>2262.499023</td>\n",
       "    </tr>\n",
       "    <tr>\n",
       "      <th>2018-01-16</th>\n",
       "      <td>7223.69</td>\n",
       "      <td>2258.114258</td>\n",
       "    </tr>\n",
       "    <tr>\n",
       "      <th>2018-01-12</th>\n",
       "      <td>7261.06</td>\n",
       "      <td>2253.958496</td>\n",
       "    </tr>\n",
       "    <tr>\n",
       "      <th>2018-01-11</th>\n",
       "      <td>7211.78</td>\n",
       "      <td>2249.999512</td>\n",
       "    </tr>\n",
       "    <tr>\n",
       "      <th>2018-01-10</th>\n",
       "      <td>7153.57</td>\n",
       "      <td>2246.217285</td>\n",
       "    </tr>\n",
       "    <tr>\n",
       "      <th>2018-01-09</th>\n",
       "      <td>7163.58</td>\n",
       "      <td>2242.596680</td>\n",
       "    </tr>\n",
       "    <tr>\n",
       "      <th>2018-01-08</th>\n",
       "      <td>7157.39</td>\n",
       "      <td>2239.127930</td>\n",
       "    </tr>\n",
       "    <tr>\n",
       "      <th>2018-01-05</th>\n",
       "      <td>7136.56</td>\n",
       "      <td>2235.802246</td>\n",
       "    </tr>\n",
       "    <tr>\n",
       "      <th>2018-01-04</th>\n",
       "      <td>7077.91</td>\n",
       "      <td>2232.609863</td>\n",
       "    </tr>\n",
       "    <tr>\n",
       "      <th>2018-01-03</th>\n",
       "      <td>7065.53</td>\n",
       "      <td>2229.549805</td>\n",
       "    </tr>\n",
       "    <tr>\n",
       "      <th>2018-01-02</th>\n",
       "      <td>7006.90</td>\n",
       "      <td>2226.637451</td>\n",
       "    </tr>\n",
       "    <tr>\n",
       "      <th>2017-12-29</th>\n",
       "      <td>6903.39</td>\n",
       "      <td>2223.883057</td>\n",
       "    </tr>\n",
       "    <tr>\n",
       "      <th>2017-12-28</th>\n",
       "      <td>6950.16</td>\n",
       "      <td>2221.275391</td>\n",
       "    </tr>\n",
       "    <tr>\n",
       "      <th>2017-12-27</th>\n",
       "      <td>6939.34</td>\n",
       "      <td>2218.803955</td>\n",
       "    </tr>\n",
       "    <tr>\n",
       "      <th>2017-12-26</th>\n",
       "      <td>6936.25</td>\n",
       "      <td>2216.458252</td>\n",
       "    </tr>\n",
       "    <tr>\n",
       "      <th>2017-12-22</th>\n",
       "      <td>6959.96</td>\n",
       "      <td>2214.232178</td>\n",
       "    </tr>\n",
       "    <tr>\n",
       "      <th>2017-12-21</th>\n",
       "      <td>6965.36</td>\n",
       "      <td>2212.117188</td>\n",
       "    </tr>\n",
       "    <tr>\n",
       "      <th>2017-12-20</th>\n",
       "      <td>6960.96</td>\n",
       "      <td>2210.106689</td>\n",
       "    </tr>\n",
       "    <tr>\n",
       "      <th>2017-12-19</th>\n",
       "      <td>6963.85</td>\n",
       "      <td>2208.197021</td>\n",
       "    </tr>\n",
       "    <tr>\n",
       "      <th>2017-12-18</th>\n",
       "      <td>6994.76</td>\n",
       "      <td>2206.381348</td>\n",
       "    </tr>\n",
       "    <tr>\n",
       "      <th>2017-12-15</th>\n",
       "      <td>6936.58</td>\n",
       "      <td>2204.654053</td>\n",
       "    </tr>\n",
       "    <tr>\n",
       "      <th>2017-12-14</th>\n",
       "      <td>6856.53</td>\n",
       "      <td>2203.011719</td>\n",
       "    </tr>\n",
       "    <tr>\n",
       "      <th>2017-12-13</th>\n",
       "      <td>6875.80</td>\n",
       "      <td>2201.450195</td>\n",
       "    </tr>\n",
       "    <tr>\n",
       "      <th>2017-12-12</th>\n",
       "      <td>6862.32</td>\n",
       "      <td>2199.964844</td>\n",
       "    </tr>\n",
       "  </tbody>\n",
       "</table>\n",
       "</div>"
      ],
      "text/plain": [
       "              Price    Generated\n",
       "Date                            \n",
       "2018-01-26  7505.77  2301.094971\n",
       "2018-01-25  7411.16  2295.380371\n",
       "2018-01-24  7415.06  2289.616455\n",
       "2018-01-23  7460.29  2283.445068\n",
       "2018-01-22  7408.03  2277.547119\n",
       "2018-01-19  7336.38  2272.141113\n",
       "2018-01-18  7296.05  2267.153320\n",
       "2018-01-17  7298.28  2262.499023\n",
       "2018-01-16  7223.69  2258.114258\n",
       "2018-01-12  7261.06  2253.958496\n",
       "2018-01-11  7211.78  2249.999512\n",
       "2018-01-10  7153.57  2246.217285\n",
       "2018-01-09  7163.58  2242.596680\n",
       "2018-01-08  7157.39  2239.127930\n",
       "2018-01-05  7136.56  2235.802246\n",
       "2018-01-04  7077.91  2232.609863\n",
       "2018-01-03  7065.53  2229.549805\n",
       "2018-01-02  7006.90  2226.637451\n",
       "2017-12-29  6903.39  2223.883057\n",
       "2017-12-28  6950.16  2221.275391\n",
       "2017-12-27  6939.34  2218.803955\n",
       "2017-12-26  6936.25  2216.458252\n",
       "2017-12-22  6959.96  2214.232178\n",
       "2017-12-21  6965.36  2212.117188\n",
       "2017-12-20  6960.96  2210.106689\n",
       "2017-12-19  6963.85  2208.197021\n",
       "2017-12-18  6994.76  2206.381348\n",
       "2017-12-15  6936.58  2204.654053\n",
       "2017-12-14  6856.53  2203.011719\n",
       "2017-12-13  6875.80  2201.450195\n",
       "2017-12-12  6862.32  2199.964844"
      ]
     },
     "execution_count": 87,
     "metadata": {},
     "output_type": "execute_result"
    }
   ],
   "source": [
    "test_set"
   ]
  },
  {
   "cell_type": "code",
   "execution_count": 88,
   "metadata": {},
   "outputs": [
    {
     "data": {
      "text/plain": [
       "<matplotlib.axes._subplots.AxesSubplot at 0x267977561d0>"
      ]
     },
     "execution_count": 88,
     "metadata": {},
     "output_type": "execute_result"
    },
    {
     "data": {
      "image/png": "[encoded data removed]",
      "text/plain": [
       "<matplotlib.figure.Figure at 0x26799b1e8d0>"
      ]
     },
     "metadata": {},
     "output_type": "display_data"
    }
   ],
   "source": [
    "test_set.plot()"
   ]
  },
  {
   "cell_type": "code",
   "execution_count": null,
   "metadata": {
    "collapsed": true
   },
   "outputs": [],
   "source": []
  }
 ],
 "metadata": {
  "kernelspec": {
   "display_name": "Python 3",
   "language": "python",
   "name": "python3"
  },
  "language_info": {
   "codemirror_mode": {
    "name": "ipython",
    "version": 3
   },
   "file_extension": ".py",
   "mimetype": "text/x-python",
   "name": "python",
   "nbconvert_exporter": "python",
   "pygments_lexer": "ipython3",
   "version": "3.5.4"
  }
 },
 "nbformat": 4,
 "nbformat_minor": 2
}
